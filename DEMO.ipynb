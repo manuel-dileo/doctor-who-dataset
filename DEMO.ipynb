{
 "cells": [
  {
   "cell_type": "code",
   "execution_count": 1,
   "metadata": {},
   "outputs": [],
   "source": [
    "import doctorwho_dataset\n",
    "import networkx as nx"
   ]
  },
  {
   "cell_type": "markdown",
   "metadata": {},
   "source": [
    "# Doctor Who Simple Graph"
   ]
  },
  {
   "cell_type": "code",
   "execution_count": 2,
   "metadata": {},
   "outputs": [],
   "source": [
    "simplegraph = doctorwho_dataset.load_simple_graph_with_roles()"
   ]
  },
  {
   "cell_type": "code",
   "execution_count": 3,
   "metadata": {},
   "outputs": [
    {
     "name": "stdout",
     "output_type": "stream",
     "text": [
      "Dw simple graph order: 694\n",
      "Dw simple graph size: 3535\n"
     ]
    }
   ],
   "source": [
    "print(\"Dw simple graph order: {}\\nDw simple graph size: {}\".format(simplegraph.order(),simplegraph.size()))"
   ]
  },
  {
   "cell_type": "code",
   "execution_count": 4,
   "metadata": {},
   "outputs": [
    {
     "data": {
      "text/plain": [
       "[('79B Aickman Road', {'roles': ['Main enemy']}),\n",
       " ('Amy Pond', {'roles': ['Companion(s)', 'Featuring']}),\n",
       " ('Craig Owens', {'roles': ['Featuring', 'Companion(s)']}),\n",
       " ('Eleventh Doctor', {'roles': ['Featuring', 'Doctor']}),\n",
       " ('Sophie (The Lodger)', {'roles': ['Featuring']}),\n",
       " ('A. H. Millington', {'roles': ['Main enemy']}),\n",
       " ('Ace', {'roles': ['Companion(s)']}),\n",
       " ('Fenric', {'roles': ['Main enemy']}),\n",
       " ('Haemovore', {'roles': ['Main enemy']}),\n",
       " ('Ingiger', {'roles': ['Main enemy']})]"
      ]
     },
     "execution_count": 4,
     "metadata": {},
     "output_type": "execute_result"
    }
   ],
   "source": [
    "list(simplegraph.nodes(data=True))[:10]"
   ]
  },
  {
   "cell_type": "code",
   "execution_count": 5,
   "metadata": {},
   "outputs": [
    {
     "data": {
      "text/plain": [
       "[('Amy Pond', 'River Song', {'Weight': 11}),\n",
       " ('Amy Pond', 'Rory Williams', {'Weight': 28}),\n",
       " ('Amy Pond', 'Rory Williams (Auton)', {'Weight': 1}),\n",
       " ('Amy Pond', 'Saturnyn', {'Weight': 1}),\n",
       " ('Amy Pond', 'Shakri', {'Weight': 1})]"
      ]
     },
     "execution_count": 5,
     "metadata": {},
     "output_type": "execute_result"
    }
   ],
   "source": [
    "list(simplegraph.edges(data=True))[55:60]"
   ]
  },
  {
   "cell_type": "markdown",
   "metadata": {},
   "source": [
    "# Doctor Who MultiGraph"
   ]
  },
  {
   "cell_type": "code",
   "execution_count": 6,
   "metadata": {},
   "outputs": [
    {
     "name": "stdout",
     "output_type": "stream",
     "text": [
      "Dw multigraph order: 694\n",
      "Dw multigraph size: 5299\n"
     ]
    }
   ],
   "source": [
    "multigraph = doctorwho_dataset.load_multigraph_with_roles()\n",
    "print(\"Dw multigraph order: {}\\nDw multigraph size: {}\".format(multigraph.order(),multigraph.size()))"
   ]
  },
  {
   "cell_type": "code",
   "execution_count": 7,
   "metadata": {},
   "outputs": [
    {
     "data": {
      "text/plain": [
       "[('First Doctor', {'roles': ['Doctor', 'Featuring']}),\n",
       " ('Susan Foreman', {'roles': ['Companion(s)', 'Featuring']}),\n",
       " ('Ian Chesterton', {'roles': ['Companion(s)']}),\n",
       " ('Barbara Wright', {'roles': ['Companion(s)']}),\n",
       " ('Kal', {'roles': ['Main enemy']}),\n",
       " ('Dalek', {'roles': ['Main enemy']}),\n",
       " ('Marco Polo', {'roles': ['Featuring']}),\n",
       " ('Tegana', {'roles': ['Main enemy']}),\n",
       " ('Yartek', {'roles': ['Main enemy']}),\n",
       " ('Tlotoxl', {'roles': ['Main enemy']})]"
      ]
     },
     "execution_count": 7,
     "metadata": {},
     "output_type": "execute_result"
    }
   ],
   "source": [
    "list(multigraph.nodes(data=True))[:10]"
   ]
  },
  {
   "cell_type": "code",
   "execution_count": 8,
   "metadata": {},
   "outputs": [
    {
     "data": {
      "text/plain": [
       "[('First Doctor', 'Susan Foreman', {'Story': 'An_Unearthly_Child_(TV_story)'}),\n",
       " ('First Doctor', 'Susan Foreman', {'Story': 'The_Daleks_(TV_story)'})]"
      ]
     },
     "execution_count": 8,
     "metadata": {},
     "output_type": "execute_result"
    }
   ],
   "source": [
    "list(multigraph.edges(data=True))[:2]"
   ]
  }
 ],
 "metadata": {
  "kernelspec": {
   "display_name": "Python 3",
   "language": "python",
   "name": "python3"
  },
  "language_info": {
   "codemirror_mode": {
    "name": "ipython",
    "version": 3
   },
   "file_extension": ".py",
   "mimetype": "text/x-python",
   "name": "python",
   "nbconvert_exporter": "python",
   "pygments_lexer": "ipython3",
   "version": "3.7.3"
  },
  "latex_envs": {
   "LaTeX_envs_menu_present": true,
   "autoclose": false,
   "autocomplete": true,
   "bibliofile": "biblio.bib",
   "cite_by": "apalike",
   "current_citInitial": 1,
   "eqLabelWithNumbers": true,
   "eqNumInitial": 1,
   "hotkeys": {
    "equation": "Ctrl-E",
    "itemize": "Ctrl-I"
   },
   "labels_anchors": false,
   "latex_user_defs": false,
   "report_style_numbering": false,
   "user_envs_cfg": false
  }
 },
 "nbformat": 4,
 "nbformat_minor": 4
}
